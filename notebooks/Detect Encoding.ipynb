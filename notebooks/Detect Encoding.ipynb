{
 "cells": [
  {
   "cell_type": "code",
   "execution_count": 2,
   "metadata": {},
   "outputs": [],
   "source": [
    "import csv\n",
    "import requests\n",
    "from requests.compat import chardet\n",
    "from w3lib.encoding import html_to_unicode"
   ]
  },
  {
   "cell_type": "code",
   "execution_count": 3,
   "metadata": {},
   "outputs": [],
   "source": [
    "def _autodetect_encoding(binary_data):\n",
    "    return chardet.detect(binary_data)['encoding']\n",
    "\n",
    "def encoding(resp):\n",
    "    enc, html = html_to_unicode(\n",
    "        content_type_header=resp.headers.get('Content-Type'),\n",
    "        html_body_str=resp.content,\n",
    "        auto_detect_fun=_autodetect_encoding\n",
    "    )\n",
    "    return enc"
   ]
  },
  {
   "cell_type": "code",
   "execution_count": 4,
   "metadata": {},
   "outputs": [
    {
     "data": {
      "text/plain": [
       "['excel', 'excel-tab', 'unix']"
      ]
     },
     "execution_count": 4,
     "metadata": {},
     "output_type": "execute_result"
    }
   ],
   "source": [
    "csv.list_dialects()"
   ]
  },
  {
   "cell_type": "code",
   "execution_count": 5,
   "metadata": {},
   "outputs": [],
   "source": [
    "csv.DictReader?"
   ]
  },
  {
   "cell_type": "code",
   "execution_count": 10,
   "metadata": {},
   "outputs": [
    {
     "name": "stdout",
     "output_type": "stream",
     "text": [
      "73 https://www.csie.ncu.edu.tw/ utf-8\n"
     ]
    }
   ],
   "source": [
    "reader = csv.DictReader(open('../autopager/data/data_2.csv'))\n",
    "for line in reader:\n",
    "    url = line['Page URL']\n",
    "    file_name = line['File Name']\n",
    "    if(file_name=='73'):\n",
    "        resp = requests.get(url)    \n",
    "        print(file_name ,url, encoding(resp))"
   ]
  },
  {
   "cell_type": "code",
   "execution_count": null,
   "metadata": {},
   "outputs": [],
   "source": []
  }
 ],
 "metadata": {
  "kernelspec": {
   "display_name": "Python 3",
   "language": "python",
   "name": "python3"
  },
  "language_info": {
   "codemirror_mode": {
    "name": "ipython",
    "version": 3
   },
   "file_extension": ".py",
   "mimetype": "text/x-python",
   "name": "python",
   "nbconvert_exporter": "python",
   "pygments_lexer": "ipython3",
   "version": "3.6.9"
  }
 },
 "nbformat": 4,
 "nbformat_minor": 1
}
