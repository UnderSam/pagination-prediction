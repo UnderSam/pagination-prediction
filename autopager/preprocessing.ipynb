{
 "cells": [
  {
   "cell_type": "code",
   "execution_count": 28,
   "metadata": {},
   "outputs": [],
   "source": [
    "import os\n",
    "import re\n",
    "import sys\n",
    "import requests\n",
    "import numpy as np\n",
    "import parsel\n",
    "from urllib.parse import urlparse\n",
    "\n",
    "sys.path.insert(0, '..')\n",
    "from autopager.htmlutils import get_every_button_and_a\n",
    "from autopager.model import page_to_features"
   ]
  },
  {
   "cell_type": "code",
   "execution_count": 29,
   "metadata": {},
   "outputs": [],
   "source": [
    "DEFAULT_PROJECT_FOLDER = os.path.abspath('..')"
   ]
  },
  {
   "cell_type": "code",
   "execution_count": 30,
   "metadata": {},
   "outputs": [],
   "source": [
    "DEFAULT_PREDICT_FOLDER = os.path.abspath('..') + '/predict_folder'"
   ]
  },
  {
   "cell_type": "code",
   "execution_count": 31,
   "metadata": {},
   "outputs": [],
   "source": [
    "DEFAULT_MODEL_FOLDER = os.path.abspath('..') + '/models'"
   ]
  },
  {
   "cell_type": "code",
   "execution_count": 32,
   "metadata": {},
   "outputs": [],
   "source": [
    "IS_CONTAIN_BUTTON = True"
   ]
  },
  {
   "cell_type": "code",
   "execution_count": 39,
   "metadata": {},
   "outputs": [],
   "source": [
    "NB_TO_PY = True"
   ]
  },
  {
   "cell_type": "code",
   "execution_count": 42,
   "metadata": {},
   "outputs": [],
   "source": [
    "def generate_page_component(url):\n",
    "    html = requests.get(url).text\n",
    "    url_obj = urlparse(url)\n",
    "    return {\n",
    "        \"html\": html,\n",
    "        \"parseObj\": url_obj,\n",
    "    }"
   ]
  },
  {
   "cell_type": "code",
   "execution_count": 35,
   "metadata": {},
   "outputs": [],
   "source": [
    "def get_selectors_from_file(file):\n",
    "    sel = parsel.Selector(html)\n",
    "    links = get_every_button_and_a(sel)\n",
    "    xseq = page_to_features(links)\n",
    "    return xseq"
   ]
  },
  {
   "cell_type": "code",
   "execution_count": 43,
   "metadata": {},
   "outputs": [
    {
     "name": "stdout",
     "output_type": "stream",
     "text": [
      "[NbConvertApp] Converting notebook preprocessing.ipynb to script\n",
      "[NbConvertApp] Writing 1246 bytes to preprocessing.py\n"
     ]
    }
   ],
   "source": [
    "if __name__ == '__main__':\n",
    "    if NB_TO_PY:\n",
    "        !jupyter nbconvert --to script preprocessing.ipynb\n",
    "    else:\n",
    "        test_url = \"https://kktix.com/events\"\n",
    "        html = crawl_into_html(test_url)\n",
    "        xseq = get_selectors_from_file(html)\n",
    "        print(xseq[:5])"
   ]
  },
  {
   "cell_type": "code",
   "execution_count": null,
   "metadata": {},
   "outputs": [],
   "source": []
  }
 ],
 "metadata": {
  "kernelspec": {
   "display_name": "Python 3",
   "language": "python",
   "name": "python3"
  },
  "language_info": {
   "codemirror_mode": {
    "name": "ipython",
    "version": 3
   },
   "file_extension": ".py",
   "mimetype": "text/x-python",
   "name": "python",
   "nbconvert_exporter": "python",
   "pygments_lexer": "ipython3",
   "version": "3.6.9"
  }
 },
 "nbformat": 4,
 "nbformat_minor": 4
}
