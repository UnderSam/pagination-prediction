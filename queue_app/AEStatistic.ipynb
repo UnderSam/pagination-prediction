{
 "cells": [
  {
   "cell_type": "code",
   "execution_count": 1,
   "metadata": {},
   "outputs": [],
   "source": [
    "import pprint\n",
    "from pymongo import MongoClient\n",
    "from bson.objectid import ObjectId"
   ]
  },
  {
   "cell_type": "code",
   "execution_count": 2,
   "metadata": {},
   "outputs": [
    {
     "data": {
      "text/plain": [
       "'2021-04-25T07:44:38.972094+00:00'"
      ]
     },
     "execution_count": 2,
     "metadata": {},
     "output_type": "execute_result"
    }
   ],
   "source": [
    "from datetime import datetime, tzinfo, timedelta\n",
    "class simple_utc(tzinfo):\n",
    "    def tzname(self,**kwargs):\n",
    "        return \"UTC\"\n",
    "    def utcoffset(self, dt):\n",
    "        return timedelta(0)\n",
    "datetime.utcnow().replace(tzinfo=simple_utc()).isoformat()"
   ]
  },
  {
   "cell_type": "code",
   "execution_count": 3,
   "metadata": {},
   "outputs": [],
   "source": [
    "MONGO_USER = 'admin'\n",
    "MONGO_PASSWORD = 'widmwidm9527'\n",
    "MONGO_PORT = '27000'\n",
    "HOST = 'localhost'\n",
    "DATABASE = 'pageDB'\n",
    "COLLECTION = 'autoExtractionResult'\n",
    "# print(f\"Loading settings, user:{MONGO_USER}, passwd:{MONGO_PASSWORD}\")\n",
    "\n",
    "MONGO_DETAILS = f\"mongodb://{MONGO_USER}:{MONGO_PASSWORD}@{HOST}:{MONGO_PORT}\"\n",
    "\n",
    "client = MongoClient(MONGO_DETAILS)\n",
    "\n",
    "database = client[DATABASE]\n",
    "\n",
    "page_collection = database.get_collection(COLLECTION)"
   ]
  },
  {
   "cell_type": "code",
   "execution_count": 4,
   "metadata": {},
   "outputs": [],
   "source": [
    "MONGO_USER = 'admin'\n",
    "MONGO_PASSWORD = 'widmwidm9527'\n",
    "MONGO_PORT = '27017'\n",
    "HOST = '140.115.54.44'\n",
    "DATABASE = 'ETL-api-creator'\n",
    "COLLECTION_urls = 'autoExtractionUrls'\n",
    "COLLECTION_extractors = 'extractors'\n",
    "\n",
    "MONGO_DETAILS_ETL = f\"mongodb://{MONGO_USER}:{MONGO_PASSWORD}@{HOST}:{MONGO_PORT}\"\n",
    "\n",
    "client_ETL = MongoClient(MONGO_DETAILS_ETL)\n",
    "\n",
    "database_ETL = client_ETL[DATABASE]\n",
    "\n",
    "etl_extractors_collection = database_ETL.get_collection(COLLECTION_extractors)\n",
    "etl_aeUrls_collection = database_ETL.get_collection(COLLECTION_urls)"
   ]
  },
  {
   "cell_type": "raw",
   "metadata": {},
   "source": [
    "Most Recently Start Time\n",
    "datetime.datetime(2021, 4, 20, 17, 40, 41, 130132)"
   ]
  },
  {
   "cell_type": "code",
   "execution_count": 5,
   "metadata": {},
   "outputs": [],
   "source": [
    "start_day = datetime.strptime('2021-04-22 06:14','%Y-%m-%d %H:%M')\n",
    "end_day = datetime.strptime('2021-04-23 00:00','%Y-%m-%d %H:%M')"
   ]
  },
  {
   "cell_type": "code",
   "execution_count": 6,
   "metadata": {},
   "outputs": [
    {
     "name": "stdout",
     "output_type": "stream",
     "text": [
      "{'$gte': datetime.datetime(2021, 4, 22, 6, 14), '$lt': datetime.datetime(2021, 4, 23, 0, 0)}\n"
     ]
    }
   ],
   "source": [
    "day_range = {\n",
    "        \"$gte\": start_day,\n",
    "        \"$lt\": end_day\n",
    "}\n",
    "print(day_range)"
   ]
  },
  {
   "cell_type": "code",
   "execution_count": 7,
   "metadata": {},
   "outputs": [
    {
     "name": "stdout",
     "output_type": "stream",
     "text": [
      "Predicted:  976\n",
      "Success:  842\n",
      "Failed:  134\n"
     ]
    }
   ],
   "source": [
    "Success_count = 0\n",
    "Failed_count = 0\n",
    "created_extractors_sns = []\n",
    "for post in page_collection.find({\"createdDateTime\": day_range}):\n",
    "    \n",
    "    if post['status'] != 'Failed':\n",
    "        Success_count+=1\n",
    "        created_extractors_sns.append(post['serialNumber'])\n",
    "    else:\n",
    "#         pprint.pprint(post)\n",
    "        Failed_count+=1\n",
    "print(\"Predicted: \", Success_count+Failed_count)\n",
    "print(\"Success: \", Success_count)\n",
    "print(\"Failed: \", Failed_count)"
   ]
  },
  {
   "cell_type": "code",
   "execution_count": 8,
   "metadata": {},
   "outputs": [
    {
     "name": "stdout",
     "output_type": "stream",
     "text": [
      "Summary stats:  {'detailPage_count': 324, 'detailPage_success': 138, 'detailPage_failed': 186, 'singlePage_count': 518, 'singlePage_success': 518, 'singlePage_failed': 0}\n"
     ]
    }
   ],
   "source": [
    "extractors_stat = {\n",
    "    \"detailPage_count\": 0,\n",
    "    \"detailPage_success\": 0,\n",
    "    \"detailPage_failed\": 0,\n",
    "    \"singlePage_count\": 0,\n",
    "    \"singlePage_success\": 0,\n",
    "    \"singlePage_failed\": 0,\n",
    "}\n",
    "all_succ_ext = []\n",
    "for _serialNumber in created_extractors_sns:\n",
    "    post = etl_extractors_collection.find_one({\"serialNumber\":_serialNumber})\n",
    "    if post['pageType'] == 'detailPage':\n",
    "        extractors_stat['detailPage_count'] +=1\n",
    "        if len(post['setsColumns']) > 1:\n",
    "            extractors_stat['detailPage_success'] +=1\n",
    "            all_succ_ext.append(_serialNumber)\n",
    "        else:\n",
    "            extractors_stat['detailPage_failed'] +=1\n",
    "    elif post['pageType'] == 'singleListPage':\n",
    "        extractors_stat['singlePage_count'] +=1\n",
    "        if len(post['setsColumns']) > 0:\n",
    "            extractors_stat['singlePage_success'] +=1\n",
    "            all_succ_ext.append(_serialNumber)\n",
    "        else:\n",
    "            extractors_stat['singlePage_failed'] +=1\n",
    "            \n",
    "print(\"Summary stats: \", extractors_stat)"
   ]
  },
  {
   "cell_type": "code",
   "execution_count": 9,
   "metadata": {},
   "outputs": [
    {
     "name": "stdout",
     "output_type": "stream",
     "text": [
      "Single need crawled:  374\n",
      "Detail need crawled:  132\n",
      "Urls generated:  12497\n"
     ]
    }
   ],
   "source": [
    "single_need_crawled = 0\n",
    "detailPage_need_crawled = 0\n",
    "urls_count = 0\n",
    "detail_succ=  set()\n",
    "single_succ = set()\n",
    "for _serialNumber in all_succ_ext:\n",
    "    post = etl_aeUrls_collection.find_one({\"serialNumber\":_serialNumber})\n",
    "    extractor = etl_extractors_collection.find_one({\"serialNumber\":_serialNumber})\n",
    "    if post:\n",
    "        if extractor['pageType'] == 'singleListPage':\n",
    "            single_need_crawled+=1\n",
    "            single_succ.add(_serialNumber)\n",
    "        else:\n",
    "            detailPage_need_crawled+=1\n",
    "            detail_succ.add(_serialNumber)\n",
    "        urls_count += len(post['urls'])\n",
    "    else:\n",
    "        pass\n",
    "print(\"Single need crawled: \", single_need_crawled)\n",
    "print(\"Detail need crawled: \", detailPage_need_crawled)\n",
    "print(\"Urls generated: \", urls_count)"
   ]
  },
  {
   "cell_type": "code",
   "execution_count": 10,
   "metadata": {},
   "outputs": [],
   "source": [
    "post = etl_extractors_collection.find_one({\"serialNumber\":\"3cvrjweyiko6tb52k\"})"
   ]
  },
  {
   "cell_type": "code",
   "execution_count": 11,
   "metadata": {},
   "outputs": [
    {
     "data": {
      "text/plain": [
       "[None]"
      ]
     },
     "execution_count": 11,
     "metadata": {},
     "output_type": "execute_result"
    }
   ],
   "source": [
    "post['setsColumns']"
   ]
  },
  {
   "cell_type": "code",
   "execution_count": 12,
   "metadata": {},
   "outputs": [
    {
     "data": {
      "text/plain": [
       "1"
      ]
     },
     "execution_count": 12,
     "metadata": {},
     "output_type": "execute_result"
    }
   ],
   "source": [
    "len(post['setsColumns'])"
   ]
  },
  {
   "cell_type": "code",
   "execution_count": 151,
   "metadata": {},
   "outputs": [
    {
     "data": {
      "text/plain": [
       "4"
      ]
     },
     "execution_count": 151,
     "metadata": {},
     "output_type": "execute_result"
    }
   ],
   "source": [
    "len(post['setsColumns'][4])"
   ]
  },
  {
   "cell_type": "code",
   "execution_count": null,
   "metadata": {},
   "outputs": [],
   "source": []
  }
 ],
 "metadata": {
  "kernelspec": {
   "display_name": "Python 3",
   "language": "python",
   "name": "python3"
  },
  "language_info": {
   "codemirror_mode": {
    "name": "ipython",
    "version": 3
   },
   "file_extension": ".py",
   "mimetype": "text/x-python",
   "name": "python",
   "nbconvert_exporter": "python",
   "pygments_lexer": "ipython3",
   "version": "3.6.9"
  }
 },
 "nbformat": 4,
 "nbformat_minor": 4
}
