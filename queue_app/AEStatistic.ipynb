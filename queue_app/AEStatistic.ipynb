{
 "cells": [
  {
   "cell_type": "code",
   "execution_count": 104,
   "metadata": {},
   "outputs": [],
   "source": [
    "import pprint\n",
    "from pymongo import MongoClient\n",
    "from bson.objectid import ObjectId"
   ]
  },
  {
   "cell_type": "code",
   "execution_count": 105,
   "metadata": {},
   "outputs": [],
   "source": [
    "from datetime import datetime, tzinfo, timedelta\n",
    "class simple_utc(tzinfo):\n",
    "    def tzname(self,**kwargs):\n",
    "        return \"UTC\"\n",
    "    def utcoffset(self, dt):\n",
    "        return timedelta(0)"
   ]
  },
  {
   "cell_type": "code",
   "execution_count": 106,
   "metadata": {},
   "outputs": [
    {
     "data": {
      "text/plain": [
       "'2021-04-20T10:09:50.853475+00:00'"
      ]
     },
     "execution_count": 106,
     "metadata": {},
     "output_type": "execute_result"
    }
   ],
   "source": [
    "datetime.utcnow().replace(tzinfo=simple_utc()).isoformat()"
   ]
  },
  {
   "cell_type": "code",
   "execution_count": 107,
   "metadata": {},
   "outputs": [],
   "source": [
    "MONGO_USER = 'admin'\n",
    "MONGO_PASSWORD = 'widmwidm9527'\n",
    "MONGO_PORT = '27000'\n",
    "HOST = 'localhost'\n",
    "DATABASE = 'pageDB'\n",
    "COLLECTION = 'autoExtractionResult'\n",
    "# print(f\"Loading settings, user:{MONGO_USER}, passwd:{MONGO_PASSWORD}\")\n",
    "\n",
    "MONGO_DETAILS = f\"mongodb://{MONGO_USER}:{MONGO_PASSWORD}@{HOST}:{MONGO_PORT}\"\n",
    "\n",
    "client = MongoClient(MONGO_DETAILS)\n",
    "\n",
    "database = client[DATABASE]\n",
    "\n",
    "page_collection = database.get_collection(COLLECTION)"
   ]
  },
  {
   "cell_type": "code",
   "execution_count": 108,
   "metadata": {},
   "outputs": [],
   "source": [
    "MONGO_USER = 'admin'\n",
    "MONGO_PASSWORD = 'widmwidm9527'\n",
    "MONGO_PORT = '27017'\n",
    "HOST = '140.115.54.44'\n",
    "DATABASE = 'ETL-api-creator'\n",
    "COLLECTION_urls = 'autoExtractionUrls'\n",
    "COLLECTION_extractors = 'extractors'\n",
    "\n",
    "MONGO_DETAILS_ETL = f\"mongodb://{MONGO_USER}:{MONGO_PASSWORD}@{HOST}:{MONGO_PORT}\"\n",
    "\n",
    "client_ETL = MongoClient(MONGO_DETAILS_ETL)\n",
    "\n",
    "database_ETL = client_ETL[DATABASE]\n",
    "\n",
    "etl_extractors_collection = database_ETL.get_collection(COLLECTION_extractors)\n",
    "etl_aeUrls_collection = database_ETL.get_collection(COLLECTION_urls)"
   ]
  },
  {
   "cell_type": "raw",
   "metadata": {},
   "source": [
    "Most Recently Start Time\n",
    "datetime.datetime(2021, 4, 20, 17, 40, 41, 130132)"
   ]
  },
  {
   "cell_type": "code",
   "execution_count": 109,
   "metadata": {},
   "outputs": [],
   "source": [
    "start_day = datetime.strptime('2021-04-20 09:00','%Y-%m-%d %H:%M')\n",
    "end_day = datetime.strptime('2021-04-20 23:59','%Y-%m-%d %H:%M')"
   ]
  },
  {
   "cell_type": "code",
   "execution_count": 110,
   "metadata": {},
   "outputs": [
    {
     "name": "stdout",
     "output_type": "stream",
     "text": [
      "{'$gte': datetime.datetime(2021, 4, 20, 9, 0), '$lt': datetime.datetime(2021, 4, 20, 23, 59)}\n"
     ]
    }
   ],
   "source": [
    "day_range = {\n",
    "        \"$gte\": start_day,\n",
    "        \"$lt\": end_day\n",
    "}\n",
    "print(day_range)"
   ]
  },
  {
   "cell_type": "code",
   "execution_count": 111,
   "metadata": {},
   "outputs": [
    {
     "name": "stdout",
     "output_type": "stream",
     "text": [
      "Predicted:  182\n",
      "Success:  168\n",
      "Failed:  14\n"
     ]
    }
   ],
   "source": [
    "Success_count = 0\n",
    "Failed_count = 0\n",
    "created_extractors_sns = []\n",
    "for post in page_collection.find({\"createdDateTime\": day_range}):\n",
    "    \n",
    "    if post['status'] != 'Failed':\n",
    "        Success_count+=1\n",
    "        created_extractors_sns.append(post['serialNumber'])\n",
    "    else:\n",
    "#         pprint.pprint(post)\n",
    "        Failed_count+=1\n",
    "print(\"Predicted: \", Success_count+Failed_count)\n",
    "print(\"Success: \", Success_count)\n",
    "print(\"Failed: \", Failed_count)"
   ]
  },
  {
   "cell_type": "code",
   "execution_count": 114,
   "metadata": {},
   "outputs": [
    {
     "name": "stdout",
     "output_type": "stream",
     "text": [
      "Summary stats:  {'detailPage_count': 73, 'detailPage_success': 22, 'detailPage_failed': 51, 'singlePage_count': 95, 'singlePage_success': 95, 'singlePage_failed': 0}\n"
     ]
    }
   ],
   "source": [
    "extractors_stat = {\n",
    "    \"detailPage_count\": 0,\n",
    "    \"detailPage_success\": 0,\n",
    "    \"detailPage_failed\": 0,\n",
    "    \"singlePage_count\": 0,\n",
    "    \"singlePage_success\": 0,\n",
    "    \"singlePage_failed\": 0,\n",
    "}\n",
    "\n",
    "for _serialNumber in created_extractors_sns:\n",
    "    post = etl_extractors_collection.find_one({\"serialNumber\":_serialNumber})\n",
    "    if post['pageType'] == 'detailPage':\n",
    "        extractors_stat['detailPage_count'] +=1\n",
    "        if len(post['setsColumns']) > 1:\n",
    "            extractors_stat['detailPage_success'] +=1\n",
    "        else:\n",
    "            extractors_stat['detailPage_failed'] +=1\n",
    "    elif post['pageType'] == 'singleListPage':\n",
    "        extractors_stat['singlePage_count'] +=1\n",
    "        if len(post['setsColumns']) > 0:\n",
    "            extractors_stat['singlePage_success'] +=1\n",
    "        else:\n",
    "            extractors_stat['singlePage_failed'] +=1\n",
    "            \n",
    "print(\"Summary stats: \", extractors_stat)"
   ]
  },
  {
   "cell_type": "code",
   "execution_count": 119,
   "metadata": {},
   "outputs": [
    {
     "name": "stdout",
     "output_type": "stream",
     "text": [
      "Single need crawled:  79\n",
      "Detail need crawled:  18\n",
      "Urls generated:  2851\n"
     ]
    }
   ],
   "source": [
    "single_need_crawled = 0\n",
    "detailPage_need_crawled = 0\n",
    "urls_count = 0\n",
    "for _serialNumber in created_extractors_sns:\n",
    "    post = etl_aeUrls_collection.find_one({\"serialNumber\":_serialNumber})\n",
    "    extractor = etl_extractors_collection.find_one({\"serialNumber\":_serialNumber})\n",
    "    if post:\n",
    "        if extractor['pageType'] == 'singleListPage':\n",
    "            single_need_crawled+=1\n",
    "        else:\n",
    "            detailPage_need_crawled+=1\n",
    "        urls_count += len(post['urls'])\n",
    "    else:\n",
    "        pass\n",
    "#         print(_serialNumber, \" is not existed\")\n",
    "print(\"Single need crawled: \", single_need_crawled)\n",
    "print(\"Detail need crawled: \", detailPage_need_crawled)\n",
    "print(\"Urls generated: \", urls_count)"
   ]
  },
  {
   "cell_type": "code",
   "execution_count": null,
   "metadata": {},
   "outputs": [],
   "source": []
  }
 ],
 "metadata": {
  "kernelspec": {
   "display_name": "Python 3",
   "language": "python",
   "name": "python3"
  },
  "language_info": {
   "codemirror_mode": {
    "name": "ipython",
    "version": 3
   },
   "file_extension": ".py",
   "mimetype": "text/x-python",
   "name": "python",
   "nbconvert_exporter": "python",
   "pygments_lexer": "ipython3",
   "version": "3.6.9"
  }
 },
 "nbformat": 4,
 "nbformat_minor": 4
}
